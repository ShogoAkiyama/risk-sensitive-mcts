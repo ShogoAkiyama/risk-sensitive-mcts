{
 "cells": [
  {
   "cell_type": "code",
   "execution_count": 1,
   "metadata": {},
   "outputs": [],
   "source": [
    "import numpy as np\n",
    "from matplotlib import rc\n",
    "rc('font',**{'family':'serif','serif':['Palatino']})\n",
    "rc('text', usetex=True)\n",
    "import matplotlib.pyplot as plt"
   ]
  },
  {
   "cell_type": "code",
   "execution_count": 33,
   "metadata": {},
   "outputs": [],
   "source": [
    "# ROAD GEOMETRY\n",
    "scene_start_x = 0.0;\n",
    "scene_end_x = 10.0;\n",
    "\n",
    "scene_start_y = 0.0;\n",
    "scene_end_y = 20.0;\n",
    "\n",
    "road_start_x = 2.0\n",
    "road_end_x = 8.0\n",
    "\n",
    "lane_centers = [3.0, 5.0, 7.0]\n",
    "\n",
    "car_width = 1.3\n",
    "car_length = 3.0\n",
    "\n",
    "disc = 0.1;\n",
    "N_x = int(np.round( (scene_end_x - scene_start_x)/disc ))\n",
    "N_y = int(np.round( (scene_end_y - scene_start_y)/disc ))"
   ]
  },
  {
   "cell_type": "code",
   "execution_count": 13,
   "metadata": {},
   "outputs": [],
   "source": [
    "def road_reward(x):\n",
    "    spread = 0.5;\n",
    "    r = 1.0\n",
    "    r -= np.exp(-(x[0]-road_start_x)**2/spread)\n",
    "    r -= np.exp(-(x[0]-road_end_x)**2/spread)\n",
    "    \n",
    "    return r"
   ]
  },
  {
   "cell_type": "code",
   "execution_count": 25,
   "metadata": {},
   "outputs": [],
   "source": [
    "def lane_reward(x):\n",
    "    spread = 0.5*car_width;\n",
    "    r = 0.0\n",
    "    for lc in lane_centers:\n",
    "        r += np.exp(-(x[0]-lc)**2/spread)\n",
    "        \n",
    "    return r"
   ]
  },
  {
   "cell_type": "code",
   "execution_count": 35,
   "metadata": {},
   "outputs": [],
   "source": [
    "def obstacle_reward(x, x_other):\n",
    "    r = -np.exp(-(x[0]-x_other[0])**2/0.5/car_width -(x[1]-x_other[1])**2/0.7/car_length )\n",
    "    return r"
   ]
  },
  {
   "cell_type": "code",
   "execution_count": 36,
   "metadata": {},
   "outputs": [
    {
     "data": {
      "image/png": "[encoded data removed]",
      "text/plain": [
       "<matplotlib.figure.Figure at 0x111baf2b0>"
      ]
     },
     "metadata": {},
     "output_type": "display_data"
    }
   ],
   "source": [
    "xx = np.linspace(scene_start_x, scene_end_x, N_x+1)\n",
    "yy = np.linspace(scene_start_y, scene_end_y, N_y+1)\n",
    "xg, yg = np.meshgrid(xx,yy)\n",
    "road_reward_img = road_reward([xg,yg])\n",
    "lane_reward_img = lane_reward([xg,yg])\n",
    "obs_reward_img = obstacle_reward([xg,yg],[5,10])\n",
    "\n",
    "plt.subplot(1,3,1)\n",
    "plt.imshow(road_reward_img)\n",
    "plt.colorbar()\n",
    "plt.subplot(1,3,2)\n",
    "plt.imshow(lane_reward_img)\n",
    "plt.colorbar()\n",
    "plt.subplot(1,3,3)\n",
    "plt.imshow(obs_reward_img)\n",
    "plt.colorbar()\n",
    "plt.show()"
   ]
  },
  {
   "cell_type": "raw",
   "metadata": {},
   "source": [
    "w = ["
   ]
  },
  {
   "cell_type": "code",
   "execution_count": null,
   "metadata": {},
   "outputs": [],
   "source": []
  }
 ],
 "metadata": {
  "kernelspec": {
   "display_name": "Python 3",
   "language": "python",
   "name": "python3"
  },
  "language_info": {
   "codemirror_mode": {
    "name": "ipython",
    "version": 3
   },
   "file_extension": ".py",
   "mimetype": "text/x-python",
   "name": "python",
   "nbconvert_exporter": "python",
   "pygments_lexer": "ipython3",
   "version": "3.6.3"
  }
 },
 "nbformat": 4,
 "nbformat_minor": 2
}
